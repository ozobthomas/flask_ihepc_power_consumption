{
 "cells": [
  {
   "cell_type": "code",
   "execution_count": null,
   "metadata": {},
   "outputs": [],
   "source": [
    "## Using UCI's Individual Household Electric Power Consumption Data\n",
    "\n",
    "https://archive.ics.uci.edu/ml/datasets/individual+household+electric+power+consumption\n",
    "    \n",
    "## Create Flask App:\n",
    "\n",
    "* Against sqlite database utilize SQLAlchemy on one object PowerConsumption\n",
    "* \n"
   ]
  },
  {
   "cell_type": "markdown",
   "metadata": {},
   "source": [
    " Action | URL | Method\n",
    " - | - | -\n",
    " Destructive refresh | http://127.0.0.1:5000/v1.0/ihepc/refresh | DELETE \n",
    " Retrieves based upon supplied attribute filters | http://127.0.0.1:5000/v1.0/ihepc/ query params | GET \n",
    " Updates existing records defined by \"id.\" Need to provide JSON with the new values | http://127.0.0.1:5000/v1.0/ihepc  id:int| PUT \n",
    " Add new record. Need to provide JSON of record | http://127.0.0.1:5000/v1.0/ihepc | POST \n",
    " Deletes specific record | http://127.0.0.1:5000/v1.0/ihepc/ id:int | DELETE "
   ]
  },
  {
   "cell_type": "markdown",
   "metadata": {},
   "source": [
    "#### What refresh does\n",
    "\n",
    "* Pulls zip from url\n",
    "* Places in inbound directory giving it a unique name\n",
    "* For processing:\n",
    " * Moves file into processing directory\n",
    " * Truncates power_consumption table\n",
    " * Uses ZipFile for reading lines of file Bulk inserts using SQLAlchemy\n",
    " * Then, files is moved into archived directory\n",
    " * Download takes ~1min\n",
    " * Bulk insert tables ~1min"
   ]
  },
  {
   "cell_type": "markdown",
   "metadata": {},
   "source": [
    "#### Query Parameters for Getting/Retrieving data follow certain format\n",
    "\n",
    "< attribute > = < operator > : < value >\n",
    "    \n",
    "##### Valid Operators:\n",
    "| operator | definition |\n",
    "| - | - |\n",
    "| gte | greater than or equal |\n",
    "| lte | less than or equal |\n",
    "| gt | greater than |\n",
    "| lt | less than |\n",
    "| eq | equal |\n",
    "\n",
    "##### Limitiations:\n",
    "\n",
    "- Each filter is 'and'ed together\n",
    "- Can't use attribute more than once\n",
    "- Doesn't support 'from' 'to' which would be beneficial for dates"
   ]
  },
  {
   "cell_type": "markdown",
   "metadata": {},
   "source": [
    "#### Sqlite SQL Alchemy Power Consumption Object:\n",
    "\n",
    "`class PowerConsumption(Base):\n",
    "    __tablename__ = \"power_consumption\"\n",
    "    __table_args__ = {'sqlite_autoincrement': True}\n",
    "    id = Column(Integer, primary_key=True)\n",
    "    date = Column(Date, nullable=False)\n",
    "    date_time = Column(DateTime, nullable=False)\n",
    "    global_active_power = Column(Float)\n",
    "    global_reactive_power = Column(Float)\n",
    "    voltage = Column(Float)\n",
    "    global_intensity = Column(Float)\n",
    "    sub_metering_1 = Column(Float)\n",
    "    sub_metering_2 = Column(Float)\n",
    "    sub_metering_3 = Column(Float)\n",
    "    line_no = Column(Integer)\n",
    "    UniqueConstraint('date_time', name='power_date_time_unq')\n",
    "    Index('power_date_time_idx', 'date_time')\n",
    "    Index('power_date_idx', 'date')\n",
    "`\n",
    "\n"
   ]
  },
  {
   "cell_type": "code",
   "execution_count": 8,
   "metadata": {},
   "outputs": [],
   "source": [
    "import requests\n",
    "import json\n",
    "\n",
    "url_refresh = \"http://127.0.0.1:5000/v1.0/ihepc/refresh\"\n",
    "url_ihepc = \"http://127.0.0.1:5000/v1.0/ihepc\""
   ]
  },
  {
   "cell_type": "code",
   "execution_count": 9,
   "metadata": {},
   "outputs": [
    {
     "name": "stdout",
     "output_type": "stream",
     "text": [
      "Thu Feb 14 22:36:11 PST 2019\n",
      "Thu Feb 14 22:38:25 PST 2019\n"
     ]
    },
    {
     "data": {
      "text/plain": [
       "<Response [200]>"
      ]
     },
     "execution_count": 9,
     "metadata": {},
     "output_type": "execute_result"
    }
   ],
   "source": [
    "!date\n",
    "res = requests.request('DELETE', url_refresh)\n",
    "!date\n",
    "res"
   ]
  },
  {
   "cell_type": "markdown",
   "metadata": {},
   "source": [
    "`sqlite> select count(*) from power_consumption ;\n",
    "2075259\n",
    "`"
   ]
  },
  {
   "cell_type": "markdown",
   "metadata": {},
   "source": [
    "### Example of Query"
   ]
  },
  {
   "cell_type": "code",
   "execution_count": 10,
   "metadata": {},
   "outputs": [
    {
     "name": "stdout",
     "output_type": "stream",
     "text": [
      "Thu Feb 14 22:38:25 PST 2019\n",
      "Thu Feb 14 22:38:26 PST 2019\n"
     ]
    },
    {
     "data": {
      "text/plain": [
       "<Response [200]>"
      ]
     },
     "execution_count": 10,
     "metadata": {},
     "output_type": "execute_result"
    }
   ],
   "source": [
    "# Querying\n",
    "data_filters = \"sub_metering_3=gte:16.0&global_intensity=gte:39.4&date=eq:2009-11-24\"\n",
    "\n",
    "!date\n",
    "res = requests.request('GET', url_ihepc, params=data_filters)\n",
    "!date\n",
    "res "
   ]
  },
  {
   "cell_type": "code",
   "execution_count": 11,
   "metadata": {},
   "outputs": [
    {
     "data": {
      "text/plain": [
       "[[{'date': '2009-11-24',\n",
       "   'date_time': '2009-11-24T19:34:00+00:00',\n",
       "   'global_active_power': 9.718,\n",
       "   'global_intensity': 41.8,\n",
       "   'global_reactive_power': 0.256,\n",
       "   'id': 22399292,\n",
       "   'line_no': 1546692.0,\n",
       "   'sub_metering_1': 37.0,\n",
       "   'sub_metering_2': 70.0,\n",
       "   'sub_metering_3': 17.0,\n",
       "   'voltage': 231.89},\n",
       "  {'date': '2009-11-24',\n",
       "   'date_time': '2009-11-24T19:35:00+00:00',\n",
       "   'global_active_power': 9.714,\n",
       "   'global_intensity': 42.0,\n",
       "   'global_reactive_power': 0.358,\n",
       "   'id': 22399293,\n",
       "   'line_no': 1546693.0,\n",
       "   'sub_metering_1': 36.0,\n",
       "   'sub_metering_2': 69.0,\n",
       "   'sub_metering_3': 18.0,\n",
       "   'voltage': 231.41},\n",
       "  {'date': '2009-11-24',\n",
       "   'date_time': '2009-11-24T19:36:00+00:00',\n",
       "   'global_active_power': 9.726,\n",
       "   'global_intensity': 42.0,\n",
       "   'global_reactive_power': 0.37,\n",
       "   'id': 22399294,\n",
       "   'line_no': 1546694.0,\n",
       "   'sub_metering_1': 36.0,\n",
       "   'sub_metering_2': 70.0,\n",
       "   'sub_metering_3': 17.0,\n",
       "   'voltage': 231.63},\n",
       "  {'date': '2009-11-24',\n",
       "   'date_time': '2009-11-24T19:37:00+00:00',\n",
       "   'global_active_power': 9.732,\n",
       "   'global_intensity': 42.0,\n",
       "   'global_reactive_power': 0.378,\n",
       "   'id': 22399295,\n",
       "   'line_no': 1546695.0,\n",
       "   'sub_metering_1': 36.0,\n",
       "   'sub_metering_2': 69.0,\n",
       "   'sub_metering_3': 17.0,\n",
       "   'voltage': 231.54},\n",
       "  {'date': '2009-11-24',\n",
       "   'date_time': '2009-11-24T19:38:00+00:00',\n",
       "   'global_active_power': 9.726,\n",
       "   'global_intensity': 42.0,\n",
       "   'global_reactive_power': 0.364,\n",
       "   'id': 22399296,\n",
       "   'line_no': 1546696.0,\n",
       "   'sub_metering_1': 36.0,\n",
       "   'sub_metering_2': 70.0,\n",
       "   'sub_metering_3': 17.0,\n",
       "   'voltage': 231.61},\n",
       "  {'date': '2009-11-24',\n",
       "   'date_time': '2009-11-24T19:39:00+00:00',\n",
       "   'global_active_power': 9.708,\n",
       "   'global_intensity': 42.0,\n",
       "   'global_reactive_power': 0.372,\n",
       "   'id': 22399297,\n",
       "   'line_no': 1546697.0,\n",
       "   'sub_metering_1': 37.0,\n",
       "   'sub_metering_2': 69.0,\n",
       "   'sub_metering_3': 17.0,\n",
       "   'voltage': 231.37}],\n",
       " {}]"
      ]
     },
     "execution_count": 11,
     "metadata": {},
     "output_type": "execute_result"
    }
   ],
   "source": [
    "res.json()"
   ]
  },
  {
   "cell_type": "markdown",
   "metadata": {},
   "source": [
    "### Example of Delete\n",
    "* sqlite query shows before and after"
   ]
  },
  {
   "cell_type": "code",
   "execution_count": 12,
   "metadata": {},
   "outputs": [
    {
     "name": "stdout",
     "output_type": "stream",
     "text": [
      "Thu Feb 14 22:38:26 PST 2019\n",
      "Thu Feb 14 22:38:26 PST 2019\n"
     ]
    },
    {
     "data": {
      "text/plain": [
       "<Response [200]>"
      ]
     },
     "execution_count": 12,
     "metadata": {},
     "output_type": "execute_result"
    }
   ],
   "source": [
    "!date\n",
    "res = requests.request('DELETE', \"%s/%d\" % (url_ihepc,20324033))\n",
    "!date\n",
    "res  "
   ]
  },
  {
   "cell_type": "markdown",
   "metadata": {},
   "source": [
    "`sqlite> select * from power_consumption where id = 20324033 ;\n",
    "20324033|2009-11-24|2009-11-24 19:34:00.000000|9.718|0.256|231.89|41.8|37.0|70.0|17.0|1546692\n",
    "sqlite> select * from power_consumption where id = 20324033 ;\n",
    "sqlite>`"
   ]
  },
  {
   "cell_type": "markdown",
   "metadata": {},
   "source": [
    "#### Example of Update\n",
    "* sqlite query shows before and after"
   ]
  },
  {
   "cell_type": "code",
   "execution_count": 6,
   "metadata": {},
   "outputs": [
    {
     "name": "stdout",
     "output_type": "stream",
     "text": [
      "Thu Feb 14 21:48:01 PST 2019\n",
      "Thu Feb 14 21:48:02 PST 2019\n"
     ]
    },
    {
     "data": {
      "text/plain": [
       "<Response [200]>"
      ]
     },
     "execution_count": 6,
     "metadata": {},
     "output_type": "execute_result"
    }
   ],
   "source": [
    "update = {\n",
    "    'global_active_power': 55.708,\n",
    "    'global_intensity': 55.0,\n",
    "    'global_reactive_power': 0.555,\n",
    "    'line_no': 1546697.0,\n",
    "    'sub_metering_1': 55.0,\n",
    "    'sub_metering_2': 55.0,\n",
    "    'sub_metering_3': 55.0,\n",
    "    'voltage': 555.55}\n",
    "\n",
    "!date\n",
    "res = requests.request('PUT', \"%s/%d\" % (url_ihepc,20324037), json=json.dumps(update))\n",
    "!date\n",
    "res  "
   ]
  },
  {
   "cell_type": "markdown",
   "metadata": {},
   "source": [
    "`sqlite> select * from power_consumption where id = 20324037;\n",
    "20324037|2009-11-24|2009-11-24 19:38:00.000000|9.726|0.364|231.61|42.0|36.0|70.0|17.0|1546696\n",
    "sqlite> select * from power_consumption where id = 20324037;\n",
    "20324037|2009-11-24|2009-11-24 19:38:00.000000|55.708|0.555|555.55|55.0|55.0|55.0|55.0|1546696\n",
    "`"
   ]
  },
  {
   "cell_type": "code",
   "execution_count": null,
   "metadata": {},
   "outputs": [],
   "source": [
    "new_data_point = {\n",
    "    'date': '2020-11-24',\n",
    "    'date_time': '2020-11-24T19:39:00+00:00',\n",
    "    'global_active_power': 9.708,\n",
    "    'global_intensity': 42.0,\n",
    "    'global_reactive_power': 0.372,\n",
    "    'line_no': 1546697.0,\n",
    "    'sub_metering_1': 37.0,\n",
    "    'sub_metering_2': 69.0,\n",
    "    'sub_metering_3': 17.0,\n",
    "    'voltage': 231.37}\n",
    "\n",
    "res = requests.request('POST', url_ihepc, json=json.dumps(new_data_point))"
   ]
  },
  {
   "cell_type": "code",
   "execution_count": null,
   "metadata": {},
   "outputs": [],
   "source": [
    "### Improvements:\n",
    "\n",
    "* Lacks security (api key, oauth...)\n",
    "* CRUD works on single items: would be nice to handle lists\n",
    "* Query/Get lacks any paging functionality\n",
    "* Error handling; argument validation\n",
    "* Bug in CREATE"
   ]
  }
 ],
 "metadata": {
  "kernelspec": {
   "display_name": "Python 3",
   "language": "python",
   "name": "python3"
  },
  "language_info": {
   "codemirror_mode": {
    "name": "ipython",
    "version": 3
   },
   "file_extension": ".py",
   "mimetype": "text/x-python",
   "name": "python",
   "nbconvert_exporter": "python",
   "pygments_lexer": "ipython3",
   "version": "3.6.3"
  }
 },
 "nbformat": 4,
 "nbformat_minor": 2
}
